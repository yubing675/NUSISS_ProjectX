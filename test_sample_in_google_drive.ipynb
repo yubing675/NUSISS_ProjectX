{
  "nbformat": 4,
  "nbformat_minor": 0,
  "metadata": {
    "colab": {
      "provenance": [],
      "include_colab_link": true
    },
    "kernelspec": {
      "name": "python3",
      "display_name": "Python 3"
    },
    "language_info": {
      "name": "python"
    }
  },
  "cells": [
    {
      "cell_type": "markdown",
      "metadata": {
        "id": "view-in-github",
        "colab_type": "text"
      },
      "source": [
        "<a href=\"https://colab.research.google.com/github/yubing675/NUSISS_ProjectX/blob/master/test_sample_in_google_drive.ipynb\" target=\"_parent\"><img src=\"https://colab.research.google.com/assets/colab-badge.svg\" alt=\"Open In Colab\"/></a>"
      ]
    },
    {
      "cell_type": "code",
      "source": [
        "print(\"This line will be printed.\")"
      ],
      "metadata": {
        "colab": {
          "base_uri": "https://localhost:8080/"
        },
        "id": "-T6iq7wqVumc",
        "outputId": "404b6b47-4bdc-481f-e115-9b8ee1485424"
      },
      "execution_count": null,
      "outputs": [
        {
          "output_type": "stream",
          "name": "stdout",
          "text": [
            "This line will be printed.\n"
          ]
        }
      ]
    },
    {
      "cell_type": "code",
      "source": [
        "def print_hi(name):\n",
        "  print(f'OI, {name}')\n",
        "\n",
        "if __name__ == '__main__':\n",
        "  print_hi('YB')"
      ],
      "metadata": {
        "colab": {
          "base_uri": "https://localhost:8080/"
        },
        "id": "ARu8U-kvVvAe",
        "outputId": "f3ec1e63-d099-4933-f769-322c374b0c4c"
      },
      "execution_count": null,
      "outputs": [
        {
          "output_type": "stream",
          "name": "stdout",
          "text": [
            "OI, YB\n"
          ]
        }
      ]
    },
    {
      "cell_type": "code",
      "source": [
        "def print_hi(name):\n",
        "  print(f'OI, {name}')\n",
        "\n",
        "if __name__ == '__main__':\n",
        "  print_hi('DENNIS')"
      ],
      "metadata": {
        "id": "M2gzHCG1V7BD"
      },
      "execution_count": null,
      "outputs": []
    }
  ]
}